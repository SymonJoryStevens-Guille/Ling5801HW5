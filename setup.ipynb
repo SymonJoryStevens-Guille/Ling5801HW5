{
 "cells": [
  {
   "cell_type": "markdown",
   "metadata": {},
   "source": [
    "# Course set-up"
   ]
  },
  {
   "cell_type": "code",
   "execution_count": 1,
   "metadata": {
    "collapsed": true
   },
   "outputs": [],
   "source": [
    "__author__ = \"Christopher Potts\"\n",
    "__version__ = \"CS224u, Stanford, Spring 2016 term\""
   ]
  },
  {
   "cell_type": "markdown",
   "metadata": {},
   "source": [
    "This notebook covers the steps you'll need to take to get set up for [CS224u](http://web.stanford.edu/class/cs224u/)."
   ]
  },
  {
   "cell_type": "markdown",
   "metadata": {},
   "source": [
    "## Anaconda\n",
    "\n",
    "We recommend installing [the free Anaconda Python distribution](https://www.continuum.io/downloads), which includes IPython, Numpy, Scipy, matplotlib, scikit-learn, NLTK, and many other useful packages. This is not required, but it's an easy way to get all these packages installed. \n",
    "\n",
    "Unless you're very comfortable with Python package management, this is probably the option for you."
   ]
  },
  {
   "cell_type": "markdown",
   "metadata": {},
   "source": [
    "## NLTK data\n",
    "\n",
    "Anaconda comes with NLTK but not with its data distribution. To install that, open a Python interpreter and run `import nltk; nltk.download()`. If you decide to download the data to a different directory than the default, then you'll have to set `NLTK_DATA` in your shell profile. (If that doesn't make sense to you, then we recommend choosing the default download directory!)"
   ]
  },
  {
   "cell_type": "markdown",
   "metadata": {},
   "source": [
    "## TensorFlow\n",
    "\n",
    "Instructions for [installing TensorFlow with Anaconda or pip](https://anaconda.org/jjhelmus/tensorflow). \n",
    "\n",
    "Here are [more details in case neither of those meets your needs](https://www.tensorflow.org/versions/r0.7/get_started/os_setup.html#download-and-setup)."
   ]
  },
  {
   "cell_type": "markdown",
   "metadata": {},
   "source": [
    "## cs224u Github repository\n",
    "\n",
    "Many of our codelabs and assignments are in [the cs224u repository](https://github.com/cgpotts/cs224u), which you should clone. We'll be working in it a lot. If you're running Anaconda and have taken the above steps for the NLTK data and TensorFlow, then you'll satisfy all [the package requirements](https://github.com/cgpotts/cs224u/blob/master/requirements.txt)."
   ]
  },
  {
   "cell_type": "markdown",
   "metadata": {},
   "source": [
    "## SippyCup\n",
    "\n",
    "Our semantic parsing library is [SippyCup](https://github.com/wcmac/sippycup). Clone this repository for local use. We'll help you get set up to use it as part of the semantic parsing unit."
   ]
  }
 ],
 "metadata": {
  "kernelspec": {
   "display_name": "Python 2",
   "language": "python",
   "name": "python2"
  },
  "language_info": {
   "codemirror_mode": {
    "name": "ipython",
    "version": 2
   },
   "file_extension": ".py",
   "mimetype": "text/x-python",
   "name": "python",
   "nbconvert_exporter": "python",
   "pygments_lexer": "ipython2",
   "version": "2.7.11"
  }
 },
 "nbformat": 4,
 "nbformat_minor": 0
}
